{
 "cells": [
  {
   "cell_type": "code",
   "execution_count": 1,
   "id": "2efe4279",
   "metadata": {},
   "outputs": [],
   "source": [
    "import pandas as pd\n",
    "from nltk.tokenize import sent_tokenize\n",
    "from nltk.tokenize import word_tokenize\n",
    "from nltk.corpus import stopwords\n",
    "from nltk.tokenize import RegexpTokenizer"
   ]
  },
  {
   "cell_type": "code",
   "execution_count": 2,
   "id": "a7c9ac51",
   "metadata": {},
   "outputs": [
    {
     "name": "stdout",
     "output_type": "stream",
     "text": [
      "<class 'pandas.core.frame.DataFrame'>\n",
      "RangeIndex: 21000 entries, 0 to 20999\n",
      "Data columns (total 9 columns):\n",
      " #   Column             Non-Null Count  Dtype \n",
      "---  ------             --------------  ----- \n",
      " 0   DOC_ID             21000 non-null  int64 \n",
      " 1   LABEL              21000 non-null  object\n",
      " 2   RATING             21000 non-null  int64 \n",
      " 3   VERIFIED_PURCHASE  21000 non-null  object\n",
      " 4   PRODUCT_CATEGORY   21000 non-null  object\n",
      " 5   PRODUCT_ID         21000 non-null  object\n",
      " 6   PRODUCT_TITLE      21000 non-null  object\n",
      " 7   REVIEW_TITLE       21000 non-null  object\n",
      " 8   REVIEW_TEXT        21000 non-null  object\n",
      "dtypes: int64(2), object(7)\n",
      "memory usage: 1.4+ MB\n"
     ]
    }
   ],
   "source": [
    "# The reviews are labelled as fake or real (in the dataset they’re mapped fake (label1) or real (label2)).\n",
    "# https://medium.com/@lievgarcia/deception-on-amazon-c1e30d977cfd\n",
    "\n",
    "df = pd.read_csv('amazon_reviews.txt', sep = \"\\t\")\n",
    "df.info()"
   ]
  },
  {
   "cell_type": "code",
   "execution_count": 3,
   "id": "2671c0eb",
   "metadata": {},
   "outputs": [
    {
     "data": {
      "text/html": [
       "<div>\n",
       "<style scoped>\n",
       "    .dataframe tbody tr th:only-of-type {\n",
       "        vertical-align: middle;\n",
       "    }\n",
       "\n",
       "    .dataframe tbody tr th {\n",
       "        vertical-align: top;\n",
       "    }\n",
       "\n",
       "    .dataframe thead th {\n",
       "        text-align: right;\n",
       "    }\n",
       "</style>\n",
       "<table border=\"1\" class=\"dataframe\">\n",
       "  <thead>\n",
       "    <tr style=\"text-align: right;\">\n",
       "      <th></th>\n",
       "      <th>DOC_ID</th>\n",
       "      <th>LABEL</th>\n",
       "      <th>RATING</th>\n",
       "      <th>VERIFIED_PURCHASE</th>\n",
       "      <th>PRODUCT_CATEGORY</th>\n",
       "      <th>PRODUCT_ID</th>\n",
       "      <th>PRODUCT_TITLE</th>\n",
       "      <th>REVIEW_TITLE</th>\n",
       "      <th>REVIEW_TEXT</th>\n",
       "      <th>target</th>\n",
       "    </tr>\n",
       "  </thead>\n",
       "  <tbody>\n",
       "    <tr>\n",
       "      <th>0</th>\n",
       "      <td>1</td>\n",
       "      <td>__label1__</td>\n",
       "      <td>4</td>\n",
       "      <td>N</td>\n",
       "      <td>PC</td>\n",
       "      <td>B00008NG7N</td>\n",
       "      <td>Targus PAUK10U Ultra Mini USB Keypad, Black</td>\n",
       "      <td>useful</td>\n",
       "      <td>When least you think so, this product will sav...</td>\n",
       "      <td>0</td>\n",
       "    </tr>\n",
       "    <tr>\n",
       "      <th>1</th>\n",
       "      <td>2</td>\n",
       "      <td>__label1__</td>\n",
       "      <td>4</td>\n",
       "      <td>Y</td>\n",
       "      <td>Wireless</td>\n",
       "      <td>B00LH0Y3NM</td>\n",
       "      <td>Note 3 Battery : Stalion Strength Replacement ...</td>\n",
       "      <td>New era for batteries</td>\n",
       "      <td>Lithium batteries are something new introduced...</td>\n",
       "      <td>0</td>\n",
       "    </tr>\n",
       "    <tr>\n",
       "      <th>2</th>\n",
       "      <td>3</td>\n",
       "      <td>__label1__</td>\n",
       "      <td>3</td>\n",
       "      <td>N</td>\n",
       "      <td>Baby</td>\n",
       "      <td>B000I5UZ1Q</td>\n",
       "      <td>Fisher-Price Papasan Cradle Swing, Starlight</td>\n",
       "      <td>doesn't swing very well.</td>\n",
       "      <td>I purchased this swing for my baby. She is 6 m...</td>\n",
       "      <td>0</td>\n",
       "    </tr>\n",
       "    <tr>\n",
       "      <th>3</th>\n",
       "      <td>4</td>\n",
       "      <td>__label1__</td>\n",
       "      <td>4</td>\n",
       "      <td>N</td>\n",
       "      <td>Office Products</td>\n",
       "      <td>B003822IRA</td>\n",
       "      <td>Casio MS-80B Standard Function Desktop Calculator</td>\n",
       "      <td>Great computing!</td>\n",
       "      <td>I was looking for an inexpensive desk calcolat...</td>\n",
       "      <td>0</td>\n",
       "    </tr>\n",
       "    <tr>\n",
       "      <th>4</th>\n",
       "      <td>5</td>\n",
       "      <td>__label1__</td>\n",
       "      <td>4</td>\n",
       "      <td>N</td>\n",
       "      <td>Beauty</td>\n",
       "      <td>B00PWSAXAM</td>\n",
       "      <td>Shine Whitening - Zero Peroxide Teeth Whitenin...</td>\n",
       "      <td>Only use twice a week</td>\n",
       "      <td>I only use it twice a week and the results are...</td>\n",
       "      <td>0</td>\n",
       "    </tr>\n",
       "  </tbody>\n",
       "</table>\n",
       "</div>"
      ],
      "text/plain": [
       "   DOC_ID       LABEL  RATING VERIFIED_PURCHASE PRODUCT_CATEGORY  PRODUCT_ID  \\\n",
       "0       1  __label1__       4                 N               PC  B00008NG7N   \n",
       "1       2  __label1__       4                 Y         Wireless  B00LH0Y3NM   \n",
       "2       3  __label1__       3                 N             Baby  B000I5UZ1Q   \n",
       "3       4  __label1__       4                 N  Office Products  B003822IRA   \n",
       "4       5  __label1__       4                 N           Beauty  B00PWSAXAM   \n",
       "\n",
       "                                       PRODUCT_TITLE  \\\n",
       "0        Targus PAUK10U Ultra Mini USB Keypad, Black   \n",
       "1  Note 3 Battery : Stalion Strength Replacement ...   \n",
       "2       Fisher-Price Papasan Cradle Swing, Starlight   \n",
       "3  Casio MS-80B Standard Function Desktop Calculator   \n",
       "4  Shine Whitening - Zero Peroxide Teeth Whitenin...   \n",
       "\n",
       "               REVIEW_TITLE  \\\n",
       "0                    useful   \n",
       "1     New era for batteries   \n",
       "2  doesn't swing very well.   \n",
       "3          Great computing!   \n",
       "4     Only use twice a week   \n",
       "\n",
       "                                         REVIEW_TEXT  target  \n",
       "0  When least you think so, this product will sav...       0  \n",
       "1  Lithium batteries are something new introduced...       0  \n",
       "2  I purchased this swing for my baby. She is 6 m...       0  \n",
       "3  I was looking for an inexpensive desk calcolat...       0  \n",
       "4  I only use it twice a week and the results are...       0  "
      ]
     },
     "execution_count": 3,
     "metadata": {},
     "output_type": "execute_result"
    }
   ],
   "source": [
    "#mapping binary output label to numeric values 0 (fake review) and 1 (real review)\n",
    "df['target'] = pd.factorize(df['LABEL'])[0]  \n",
    "\n",
    "df.head()"
   ]
  },
  {
   "cell_type": "code",
   "execution_count": 4,
   "id": "a5867af1",
   "metadata": {},
   "outputs": [
    {
     "name": "stdout",
     "output_type": "stream",
     "text": [
      "10500 10500\n"
     ]
    }
   ],
   "source": [
    "num_fake = len(df[df['target'] == 0])\n",
    "num_real = len(df[df['target'] == 1])\n",
    "\n",
    "print(num_real, num_fake)"
   ]
  },
  {
   "cell_type": "markdown",
   "id": "684b13d7",
   "metadata": {},
   "source": [
    "As seen above, the dataset is evenly balanced across both classes."
   ]
  },
  {
   "cell_type": "markdown",
   "id": "e5189219",
   "metadata": {},
   "source": [
    "## Review Text Preprocessing"
   ]
  },
  {
   "cell_type": "code",
   "execution_count": 5,
   "id": "0aa116b5",
   "metadata": {},
   "outputs": [
    {
     "data": {
      "text/plain": [
       "['when',\n",
       " 'least',\n",
       " 'you',\n",
       " 'think',\n",
       " 'so',\n",
       " 'this',\n",
       " 'product',\n",
       " 'will',\n",
       " 'save',\n",
       " 'the',\n",
       " 'day',\n",
       " 'just',\n",
       " 'keep',\n",
       " 'it',\n",
       " 'around',\n",
       " 'just',\n",
       " 'in',\n",
       " 'case',\n",
       " 'you',\n",
       " 'need',\n",
       " 'it',\n",
       " 'for',\n",
       " 'something']"
      ]
     },
     "execution_count": 5,
     "metadata": {},
     "output_type": "execute_result"
    }
   ],
   "source": [
    "tokenizer = RegexpTokenizer(r'\\w+')\n",
    "\n",
    "# converting to lowercase and tokenizing\n",
    "review_tokens = [tokenizer.tokenize(review.lower()) for review in df['REVIEW_TEXT']]\n",
    "review_tokens[0]"
   ]
  },
  {
   "cell_type": "code",
   "execution_count": 6,
   "id": "1dd82e90",
   "metadata": {},
   "outputs": [
    {
     "name": "stdout",
     "output_type": "stream",
     "text": [
      "Before stop word removal:  ['when', 'least', 'you', 'think', 'so', 'this', 'product', 'will', 'save', 'the', 'day', 'just', 'keep', 'it', 'around', 'just', 'in', 'case', 'you', 'need', 'it', 'for', 'something']\n",
      "\n",
      "After stop word removal:  ['least', 'think', 'product', 'save', 'day', 'keep', 'around', 'case', 'need', 'something']\n"
     ]
    }
   ],
   "source": [
    "# removing stop words\n",
    "stop_words = set(stopwords.words(\"english\"))\n",
    "content_review_tokens = [[token for token in review if token not in stop_words] for review in review_tokens]\n",
    "\n",
    "print(\"Before stop word removal: \", review_tokens[0])\n",
    "print()\n",
    "print(\"After stop word removal: \", content_review_tokens[0])"
   ]
  },
  {
   "cell_type": "markdown",
   "id": "a4dbb23c",
   "metadata": {},
   "source": [
    "## Stemming and Lemmatization"
   ]
  },
  {
   "cell_type": "code",
   "execution_count": 11,
   "id": "7c3fb3f4",
   "metadata": {},
   "outputs": [
    {
     "name": "stdout",
     "output_type": "stream",
     "text": [
      "['brush', 'soft', 'soon', 'first', 'usag', 'see', 'bristl', 'come', 'worth', 'purcha', 'fall', 'generic', 'product']\n"
     ]
    }
   ],
   "source": [
    "from nltk.stem import SnowballStemmer     #porter 2 algorithm\n",
    "snowball = SnowballStemmer(language = \"english\")\n",
    "\n",
    "content_review_tokens = [[snowball.stem(token) for token in review] for review in content_review_tokens]\n",
    "print(content_review_tokens[374])"
   ]
  },
  {
   "cell_type": "code",
   "execution_count": 12,
   "id": "183d6ebd",
   "metadata": {},
   "outputs": [
    {
     "name": "stdout",
     "output_type": "stream",
     "text": [
      "['brush', 'soft', 'soon', 'first', 'usag', 'see', 'bristl', 'come', 'worth', 'purcha', 'fall', 'generic', 'product']\n"
     ]
    }
   ],
   "source": [
    "from nltk.stem import WordNetLemmatizer\n",
    "lemmatizer = WordNetLemmatizer()\n",
    "\n",
    "content_review_tokens = [[lemmatizer.lemmatize(token) for token in review] for review in content_review_tokens]\n",
    "print(content_review_tokens[374])"
   ]
  },
  {
   "cell_type": "markdown",
   "id": "c88797e4",
   "metadata": {},
   "source": [
    "## N-Gram Modelling"
   ]
  },
  {
   "cell_type": "code",
   "execution_count": 13,
   "id": "88db9c59",
   "metadata": {},
   "outputs": [
    {
     "name": "stdout",
     "output_type": "stream",
     "text": [
      "[('brush',), ('soft',), ('soon',), ('first',), ('usag',), ('see',), ('bristl',), ('come',), ('worth',), ('purcha',), ('fall',), ('generic',), ('product',)]\n",
      "[('brush', 'soft'), ('soft', 'soon'), ('soon', 'first'), ('first', 'usag'), ('usag', 'see'), ('see', 'bristl'), ('bristl', 'come'), ('come', 'worth'), ('worth', 'purcha'), ('purcha', 'fall'), ('fall', 'generic'), ('generic', 'product')]\n",
      "[('brush', 'soft', 'soon'), ('soft', 'soon', 'first'), ('soon', 'first', 'usag'), ('first', 'usag', 'see'), ('usag', 'see', 'bristl'), ('see', 'bristl', 'come'), ('bristl', 'come', 'worth'), ('come', 'worth', 'purcha'), ('worth', 'purcha', 'fall'), ('purcha', 'fall', 'generic'), ('fall', 'generic', 'product')]\n"
     ]
    }
   ],
   "source": [
    "from nltk import ngrams\n",
    "\n",
    "review_text_unigrams = [list(ngrams(tokens, 1)) for tokens in content_review_tokens]\n",
    "review_text_bigrams = [list(ngrams(tokens, 2)) for tokens in content_review_tokens]\n",
    "review_text_trigrams = [list(ngrams(tokens, 3)) for tokens in content_review_tokens]\n",
    "\n",
    "print(review_text_unigrams[374])\n",
    "print(review_text_bigrams[374])\n",
    "print(review_text_trigrams[374])"
   ]
  },
  {
   "cell_type": "code",
   "execution_count": null,
   "id": "7dfc91d9",
   "metadata": {},
   "outputs": [],
   "source": []
  }
 ],
 "metadata": {
  "kernelspec": {
   "display_name": "Python 3 (ipykernel)",
   "language": "python",
   "name": "python3"
  },
  "language_info": {
   "codemirror_mode": {
    "name": "ipython",
    "version": 3
   },
   "file_extension": ".py",
   "mimetype": "text/x-python",
   "name": "python",
   "nbconvert_exporter": "python",
   "pygments_lexer": "ipython3",
   "version": "3.9.12"
  }
 },
 "nbformat": 4,
 "nbformat_minor": 5
}
